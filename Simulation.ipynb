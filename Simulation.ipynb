{
 "cells": [
  {
   "cell_type": "code",
   "execution_count": 116,
   "id": "plain-glasgow",
   "metadata": {},
   "outputs": [
    {
     "name": "stdout",
     "output_type": "stream",
     "text": [
      "Requirement already satisfied: pertdist in /Users/mac/opt/anaconda3/envs/envTF22/lib/python3.8/site-packages (0.1.1)\r\n",
      "Requirement already satisfied: scipy<2,>=1.3 in /Users/mac/opt/anaconda3/envs/envTF22/lib/python3.8/site-packages (from pertdist) (1.4.1)\r\n",
      "Requirement already satisfied: numpy<2,>=1.17 in /Users/mac/opt/anaconda3/envs/envTF22/lib/python3.8/site-packages (from pertdist) (1.19.2)\r\n"
     ]
    }
   ],
   "source": [
    "import numpy as np\n",
    "import sys\n",
    "!{sys.executable} -m pip install pertdist\n",
    "from pert import PERT\n",
    "import matplotlib.pyplot as plt\n",
    "%matplotlib inline"
   ]
  },
  {
   "cell_type": "markdown",
   "id": "silver-conducting",
   "metadata": {},
   "source": [
    "# simulation function"
   ]
  },
  {
   "cell_type": "code",
   "execution_count": 180,
   "id": "fleet-james",
   "metadata": {},
   "outputs": [],
   "source": [
    "def Proj_simulation(H,B,C,D,F,G_Predecessor,G):   #H to the front \n",
    "    '''\n",
    "    Input:\n",
    "    \n",
    "    0: for no crash/no intern\n",
    "    1: for crash/with intern\n",
    "    \n",
    "    G_Predecessor: 0 for after D, 1 for after F\n",
    "    \n",
    "    H: 0 for logistic model, 1 for tree based model, \n",
    "       2 for deep learning model\n",
    "    '''\n",
    "    #result = {'Duration':-999,'Profit':-999}\n",
    "    result = [-999,-999]\n",
    "    \n",
    "    if 3*B+2*D+2*F+3*G > 7:\n",
    "        return result\n",
    "    \n",
    "    intern = 0\n",
    "    model_accuracy = 0\n",
    "    test_sys_cost = 0\n",
    "    interp_bonus = 0\n",
    "    \n",
    "    taskA = 2\n",
    "    \n",
    "    #B after A\n",
    "    taskB = 5 - B*2\n",
    "    intern += taskB*B\n",
    "        \n",
    "    #C after B\n",
    "    taskC = 3 - C*2  \n",
    "    \n",
    "    #D,E after C\n",
    "    taskD = 4 - D*2\n",
    "    intern += taskD*D   \n",
    "    taskE = 5   #not on critical path\n",
    "    \n",
    "    #F after d\n",
    "    taskF = 3 - F*1\n",
    "    intern += taskF*F\n",
    "        \n",
    "    #G after D or F   \n",
    "    model_accuracy += 0.03*G_Predecessor \n",
    "    taskG = 5 - G*2\n",
    "    intern += taskG*G\n",
    "\n",
    "    #H after G, I/J after H \n",
    "    if H == 0:    #logistic model\n",
    "        taskH = 1.5 + max(3,1) #train+test/interpretation\n",
    "        test_sys_cost += 3*100\n",
    "        interp_bonus = 10000\n",
    "        Opt,ML,Pess = 0.7,0.8,0.9\n",
    "        sim = PERT(Opt,ML,Pess).rvs(1)[0]\n",
    "        while model_accuracy+sim < 0.8:\n",
    "            taskH += (taskG/2 + taskH)  #??? taskH = taskH +(taskG/2 + taskH)\n",
    "            intern += taskG/2*G\n",
    "            \n",
    "            if intern > 10:\n",
    "                return result\n",
    "            \n",
    "            test_sys_cost += 3*100\n",
    "            Opt += 0.05\n",
    "            ML += 0.05\n",
    "            Pess += 0.05\n",
    "            sim = PERT(Opt,ML,Pess).rvs(1)[0]\n",
    "        model_accuracy += sim\n",
    "        model_accuracy = min(1,model_accuracy)\n",
    "    elif H == 1:   #tree based model\n",
    "        taskH = 3 + max(3,2)\n",
    "        test_sys_cost += 3*100\n",
    "        interp_bonus = 2000\n",
    "        if np.random.rand() < 0.9:  #system didn't crash\n",
    "            Opt,ML,Pess=0.7,0.85,0.9\n",
    "            sim = PERT(Opt,ML,Pess).rvs(1)[0]\n",
    "            while model_accuracy+sim < 0.8:\n",
    "                taskH += (taskG/2 + taskH) \n",
    "                intern += taskG/2*G\n",
    "                \n",
    "                if intern > 10:\n",
    "                    return result\n",
    "                \n",
    "                test_sys_cost += 3*100\n",
    "                Opt += 0.05\n",
    "                ML += 0.05\n",
    "                Pess += 0.05\n",
    "                sim = PERT(Opt,ML,Pess).rvs(1)[0]\n",
    "            model_accuracy += sim\n",
    "            model_accuracy = min(1,model_accuracy)\n",
    "        else:  #system crashed\n",
    "            taskH += 3\n",
    "            Opt,ML,Pess=0.7,0.85,0.9\n",
    "            sim = PERT(Opt,ML,Pess).rvs(1)[0]\n",
    "            while model_accuracy+sim < 0.8:\n",
    "                taskH += (taskG/2 + taskH)\n",
    "                intern += taskG/2*G\n",
    "                \n",
    "                if intern > 10:\n",
    "                    return result\n",
    "                \n",
    "                test_sys_cost += 3*100\n",
    "                Opt += 0.05\n",
    "                ML += 0.05\n",
    "                Pess += 0.05\n",
    "                sim = PERT(Opt,ML,Pess).rvs(1)[0]\n",
    "            model_accuracy += sim \n",
    "            model_accuracy = min(1,model_accuracy)\n",
    "    else:   #deep learning model\n",
    "        taskH = 4 + max(3,5)\n",
    "        test_sys_cost += 3*100\n",
    "        interp_bonus = 1000\n",
    "        if np.random.rand() < 0.8:  #system didn't crash\n",
    "            Opt,ML,Pess=0.7,0.85,0.9\n",
    "            sim = PERT(Opt,ML,Pess).rvs(1)[0]\n",
    "            while model_accuracy+sim < 0.8:\n",
    "                taskH += (taskG/2 + taskH)\n",
    "                intern += taskG/2*G\n",
    "                \n",
    "                if intern > 10:\n",
    "                    return result\n",
    "                \n",
    "                test_sys_cost += 3*100\n",
    "                Opt += 0.05\n",
    "                ML += 0.05\n",
    "                Pess += 0.05\n",
    "                sim = PERT(Opt,ML,Pess).rvs(1)[0]\n",
    "            model_accuracy += sim\n",
    "            model_accuracy = min(1,model_accuracy)\n",
    "        else:   #system crashed\n",
    "            taskH += 3\n",
    "            Opt,ML,Pess=0.75,0.9,0.95\n",
    "            sim = PERT(Opt,ML,Pess).rvs(1)[0]\n",
    "            while model_accuracy+sim < 0.8:\n",
    "                taskH += (taskG/2 + taskH)\n",
    "                intern += taskG/2*G\n",
    "                \n",
    "                if intern > 10:\n",
    "                    return result\n",
    "                \n",
    "                test_sys_cost += 3*100\n",
    "                Opt += 0.05\n",
    "                ML += 0.05\n",
    "                Pess += 0.05\n",
    "                sim = PERT(Opt,ML,Pess).rvs(1)[0]\n",
    "            model_accuracy += sim\n",
    "            model_accuracy = min(1,model_accuracy)\n",
    "    \n",
    "    #K after I/J\n",
    "    taskK = 2 + max(B,D,F,G)\n",
    "    \n",
    "    total_duration = taskA + taskB + taskC + max(taskD + taskF*G_Predecessor + taskG,taskE) + taskH + taskK \n",
    "    #overhead cost $160/day, intern $100/day, test systm cost $100/model/day\n",
    "    Profit = 100000*model_accuracy + interp_bonus - 160*total_duration - 100*intern - test_sys_cost - 380*C - [0,2999][total_duration>=23]\n",
    "    \n",
    "    #result['Duration'] = total_duration\n",
    "    #result['Profit'] = round(Profit)\n",
    "    result[0] = total_duration\n",
    "    result[1] = round(Profit)\n",
    "    \n",
    "    return result\n"
   ]
  },
  {
   "cell_type": "markdown",
   "id": "infinite-yellow",
   "metadata": {},
   "source": [
    "# Combination of task crash"
   ]
  },
  {
   "cell_type": "code",
   "execution_count": 179,
   "id": "extreme-restriction",
   "metadata": {},
   "outputs": [
    {
     "data": {
      "text/plain": [
       "[(0, 0, 0, 0, 0, 0),\n",
       " (0, 0, 0, 0, 0, 1),\n",
       " (0, 0, 0, 0, 1, 0),\n",
       " (0, 0, 0, 0, 1, 1),\n",
       " (0, 0, 0, 1, 0, 0),\n",
       " (0, 0, 0, 1, 0, 1),\n",
       " (0, 0, 0, 1, 1, 0),\n",
       " (0, 0, 0, 1, 1, 1),\n",
       " (0, 0, 1, 0, 0, 0),\n",
       " (0, 0, 1, 0, 0, 1),\n",
       " (0, 0, 1, 0, 1, 0),\n",
       " (0, 0, 1, 0, 1, 1),\n",
       " (0, 0, 1, 1, 0, 0),\n",
       " (0, 0, 1, 1, 0, 1),\n",
       " (0, 0, 1, 1, 1, 0),\n",
       " (0, 0, 1, 1, 1, 1),\n",
       " (0, 1, 0, 0, 0, 0),\n",
       " (0, 1, 0, 0, 0, 1),\n",
       " (0, 1, 0, 0, 1, 0),\n",
       " (0, 1, 0, 0, 1, 1),\n",
       " (0, 1, 0, 1, 0, 0),\n",
       " (0, 1, 0, 1, 0, 1),\n",
       " (0, 1, 0, 1, 1, 0),\n",
       " (0, 1, 0, 1, 1, 1),\n",
       " (0, 1, 1, 0, 0, 0),\n",
       " (0, 1, 1, 0, 0, 1),\n",
       " (0, 1, 1, 0, 1, 0),\n",
       " (0, 1, 1, 0, 1, 1),\n",
       " (0, 1, 1, 1, 0, 0),\n",
       " (0, 1, 1, 1, 0, 1),\n",
       " (0, 1, 1, 1, 1, 0),\n",
       " (0, 1, 1, 1, 1, 1),\n",
       " (1, 0, 0, 0, 0, 0),\n",
       " (1, 0, 0, 0, 0, 1),\n",
       " (1, 0, 0, 0, 1, 0),\n",
       " (1, 0, 0, 0, 1, 1),\n",
       " (1, 0, 0, 1, 0, 0),\n",
       " (1, 0, 0, 1, 0, 1),\n",
       " (1, 0, 0, 1, 1, 0),\n",
       " (1, 0, 0, 1, 1, 1),\n",
       " (1, 0, 1, 0, 0, 0),\n",
       " (1, 0, 1, 0, 0, 1),\n",
       " (1, 0, 1, 0, 1, 0),\n",
       " (1, 0, 1, 0, 1, 1),\n",
       " (1, 0, 1, 1, 0, 0),\n",
       " (1, 0, 1, 1, 0, 1),\n",
       " (1, 0, 1, 1, 1, 0),\n",
       " (1, 0, 1, 1, 1, 1),\n",
       " (1, 1, 0, 0, 0, 0),\n",
       " (1, 1, 0, 0, 0, 1),\n",
       " (1, 1, 0, 0, 1, 0),\n",
       " (1, 1, 0, 0, 1, 1),\n",
       " (1, 1, 0, 1, 0, 0),\n",
       " (1, 1, 0, 1, 0, 1),\n",
       " (1, 1, 0, 1, 1, 0),\n",
       " (1, 1, 0, 1, 1, 1),\n",
       " (1, 1, 1, 0, 0, 0),\n",
       " (1, 1, 1, 0, 0, 1),\n",
       " (1, 1, 1, 0, 1, 0),\n",
       " (1, 1, 1, 0, 1, 1),\n",
       " (1, 1, 1, 1, 0, 0),\n",
       " (1, 1, 1, 1, 0, 1),\n",
       " (1, 1, 1, 1, 1, 0),\n",
       " (1, 1, 1, 1, 1, 1)]"
      ]
     },
     "execution_count": 179,
     "metadata": {},
     "output_type": "execute_result"
    }
   ],
   "source": [
    "import itertools\n",
    "lst = list(itertools.product([0, 1], repeat=6))\n",
    "lst"
   ]
  },
  {
   "cell_type": "code",
   "execution_count": 184,
   "id": "coral-range",
   "metadata": {},
   "outputs": [],
   "source": [
    "def comb_mean(model,i):\n",
    "    dur = []\n",
    "    prof = []\n",
    "    for j in range(500):\n",
    "        pred = Proj_simulation(model,lst[i][0],lst[i][1],lst[i][2],lst[i][3],lst[i][4],lst[i][5])\n",
    "        if pred[0] > 0 and pred[1] > 0:\n",
    "            dur.append(pred[0]) \n",
    "            prof.append(pred[1])\n",
    "    return [np.mean(dur),np.mean(prof)]"
   ]
  },
  {
   "cell_type": "code",
   "execution_count": 185,
   "id": "acceptable-graduation",
   "metadata": {},
   "outputs": [
    {
     "name": "stderr",
     "output_type": "stream",
     "text": [
      "/Users/mac/opt/anaconda3/envs/envTF22/lib/python3.8/site-packages/numpy/core/fromnumeric.py:3372: RuntimeWarning: Mean of empty slice.\n",
      "  return _methods._mean(a, axis=axis, dtype=dtype,\n",
      "/Users/mac/opt/anaconda3/envs/envTF22/lib/python3.8/site-packages/numpy/core/_methods.py:170: RuntimeWarning: invalid value encountered in double_scalars\n",
      "  ret = ret.dtype.type(ret / rcount)\n"
     ]
    }
   ],
   "source": [
    "#logistic model\n",
    "dur_logi = []   #mean duration of 128 combinations using model 0\n",
    "profit_logi = []   #mean profit of 128 combinations using model 0\n",
    "for i in range(len(lst)):\n",
    "    dur_logi.append(comb_mean(0,i)[0])\n",
    "    profit_logi.append(comb_mean(0,i)[1])"
   ]
  },
  {
   "cell_type": "code",
   "execution_count": 198,
   "id": "reliable-outside",
   "metadata": {},
   "outputs": [],
   "source": [
    "#tree model\n",
    "dur_tree = []   #mean duration of 128 combinations using model 1\n",
    "profit_tree = []   #mean profit of 128 combinations using model 1\n",
    "for i in range(len(lst)):\n",
    "    dur_tree.append(comb_mean(1,i)[0])\n",
    "    profit_tree.append(comb_mean(1,i)[1])"
   ]
  },
  {
   "cell_type": "code",
   "execution_count": 204,
   "id": "effective-yacht",
   "metadata": {},
   "outputs": [],
   "source": [
    "#deep learning model\n",
    "dur_deep = []   #mean duration of 128 combinations using model 2\n",
    "profit_deep = []   #mean profit of 128 combinations using model 2\n",
    "for i in range(len(lst)):\n",
    "    dur_deep.append(comb_mean(2,i)[0])\n",
    "    profit_deep.append(comb_mean(2,i)[1])"
   ]
  },
  {
   "cell_type": "markdown",
   "id": "different-intake",
   "metadata": {},
   "source": [
    "### Q1"
   ]
  },
  {
   "cell_type": "code",
   "execution_count": 210,
   "id": "forbidden-horizontal",
   "metadata": {},
   "outputs": [
    {
     "name": "stdout",
     "output_type": "stream",
     "text": [
      "Max Profit Logit:  89609.938\n",
      "Crash Decision:  (1, 1, 1, 1, 1, 0)\n"
     ]
    }
   ],
   "source": [
    "print('Max Profit Logit: ',profit_logi[profit_logi.index(max(profit_logi))])                #62\n",
    "print('Crash Decision: ',lst[profit_logi.index(max(profit_logi))])"
   ]
  },
  {
   "cell_type": "code",
   "execution_count": 211,
   "id": "subtle-episode",
   "metadata": {},
   "outputs": [
    {
     "name": "stdout",
     "output_type": "stream",
     "text": [
      "Max Profit Tree:  81613.85\n",
      "Crash Decision:  (0, 1, 1, 0, 0, 1)\n"
     ]
    }
   ],
   "source": [
    "print('Max Profit Tree: ',profit_tree[profit_tree.index(max(profit_tree))])                #25\n",
    "print('Crash Decision: ',lst[profit_tree.index(max(profit_tree))])"
   ]
  },
  {
   "cell_type": "code",
   "execution_count": 212,
   "id": "swedish-arbitration",
   "metadata": {},
   "outputs": [
    {
     "name": "stdout",
     "output_type": "stream",
     "text": [
      "Max Profit Deep Learning:  80296.648\n",
      "Crash Decision:  (0, 1, 1, 1, 1, 0)\n"
     ]
    }
   ],
   "source": [
    "print('Max Profit Deep Learning: ',profit_deep[profit_deep.index(max(profit_deep))])           #30\n",
    "print('Crash Decision: ',lst[profit_deep.index(max(profit_deep))])"
   ]
  },
  {
   "cell_type": "code",
   "execution_count": 227,
   "id": "aggregate-wayne",
   "metadata": {},
   "outputs": [
    {
     "data": {
      "text/plain": [
       "[(0, 1, 1, 0, 0, 0),\n",
       " (1, 1, 1, 0, 0, 0),\n",
       " (0, 0, 1, 0, 0, 1),\n",
       " (0, 1, 1, 1, 1, 1),\n",
       " (1, 1, 1, 1, 1, 0)]"
      ]
     },
     "execution_count": 227,
     "metadata": {},
     "output_type": "execute_result"
    }
   ],
   "source": [
    "top_logi_index = sorted([x for x in profit_logi if str(x) != 'nan'])[-5:]\n",
    "comb_logi = [lst[profit_logi.index(i)] for i in top_logi_index]"
   ]
  },
  {
   "cell_type": "code",
   "execution_count": 336,
   "id": "improved-average",
   "metadata": {},
   "outputs": [],
   "source": [
    "dur_dist = []\n",
    "prof_dist = []\n",
    "for i in range(500):\n",
    "    dur_dist.append(Proj_simulation(0,1,1,1,1,1,0)[0])\n",
    "    prof_dist.append(Proj_simulation(0,1,1,1,1,1,0)[1])\n",
    "dur_dist = [x for x in dur_dist if str(x) != 'nan']\n",
    "prof_dist = [x for x in prof_dist if str(x) != 'nan']"
   ]
  },
  {
   "cell_type": "code",
   "execution_count": 265,
   "id": "accepted-papua",
   "metadata": {},
   "outputs": [
    {
     "data": {
      "text/plain": [
       "Text(0, 0.5, 'Count')"
      ]
     },
     "execution_count": 265,
     "metadata": {},
     "output_type": "execute_result"
    },
    {
     "data": {
      "image/png": "[encoded data removed]",
      "text/plain": [
       "<Figure size 432x288 with 1 Axes>"
      ]
     },
     "metadata": {
      "needs_background": "light"
     },
     "output_type": "display_data"
    }
   ],
   "source": [
    "plt.hist(prof_dist,bins=50,color='lightsteelblue')\n",
    "plt.xlabel('Distribution of Profit from Training Logistic Model with Optimal Crash Decisions')\n",
    "plt.ylabel('Count')"
   ]
  },
  {
   "cell_type": "markdown",
   "id": "instrumental-monitor",
   "metadata": {},
   "source": [
    "# Q2"
   ]
  },
  {
   "cell_type": "markdown",
   "id": "southeast-substitute",
   "metadata": {},
   "source": [
    "### logi"
   ]
  },
  {
   "cell_type": "code",
   "execution_count": 311,
   "id": "accompanied-audience",
   "metadata": {},
   "outputs": [
    {
     "data": {
      "text/plain": [
       "[24.028, 24.88, 24.328, 23.736, 23.884, 24.712, 24.504, 24.826, 24.194]"
      ]
     },
     "execution_count": 311,
     "metadata": {},
     "output_type": "execute_result"
    }
   ],
   "source": [
    "tc_dur_logi = []\n",
    "tc_prof_logi = []\n",
    "tc_crash_logi = []\n",
    "for i in range(len(dur_logi)):\n",
    "    if dur_logi[i] <= 25:\n",
    "        tc_dur_logi.append(dur_logi[i])\n",
    "        tc_prof_logi.append(profit_logi[i])\n",
    "        tc_crash_logi.append(lst[i])\n",
    "tc_dur_logi"
   ]
  },
  {
   "cell_type": "code",
   "execution_count": 309,
   "id": "female-entrepreneur",
   "metadata": {},
   "outputs": [
    {
     "data": {
      "text/plain": [
       "0.76214"
      ]
     },
     "execution_count": 309,
     "metadata": {},
     "output_type": "execute_result"
    }
   ],
   "source": [
    "def logi_confidence():\n",
    "    dur_dist = []\n",
    "    prof_dist = []\n",
    "    for i in range(500):\n",
    "        dur_dist.append(Proj_simulation(0,0,1,1,1,1,1)[0])\n",
    "        prof_dist.append(Proj_simulation(0,0,1,1,1,1,1)[1])\n",
    "    dur_dist = [x for x in dur_dist if str(x) != 'nan']\n",
    "    prof_dist = [x for x in prof_dist if str(x) != 'nan']\n",
    "    return len([x for x in dur_dist if x <=28])/500\n",
    "np.mean([logi_confidence() for i in range(100)])"
   ]
  },
  {
   "cell_type": "markdown",
   "id": "impressed-multimedia",
   "metadata": {},
   "source": [
    "## Tree"
   ]
  },
  {
   "cell_type": "code",
   "execution_count": 317,
   "id": "loved-jungle",
   "metadata": {},
   "outputs": [
    {
     "data": {
      "text/plain": [
       "[23.935, 25.774, 23.809, 24.882, 24.175, 25.786, 24.305, 23.902, 24.79]"
      ]
     },
     "execution_count": 317,
     "metadata": {},
     "output_type": "execute_result"
    }
   ],
   "source": [
    "tc_dur = []\n",
    "tc_prof = []\n",
    "tc_crash = []\n",
    "for i in range(len(dur_logi)):\n",
    "    if dur_logi[i] <= 25:\n",
    "        tc_dur.append(dur_tree[i])\n",
    "        tc_prof.append(profit_tree[i])\n",
    "        tc_crash.append(lst[i])\n",
    "tc_dur"
   ]
  },
  {
   "cell_type": "code",
   "execution_count": 316,
   "id": "broad-belize",
   "metadata": {},
   "outputs": [
    {
     "data": {
      "text/plain": [
       "0.8111400000000001"
      ]
     },
     "execution_count": 316,
     "metadata": {},
     "output_type": "execute_result"
    }
   ],
   "source": [
    "def logi_confidence():\n",
    "    dur_dist = []\n",
    "    prof_dist = []\n",
    "    for i in range(500):\n",
    "        dur_dist.append(Proj_simulation(1,1,1,1,1,0,0)[0])\n",
    "        prof_dist.append(Proj_simulation(1,1,1,1,1,0,0)[1])\n",
    "    dur_dist = [x for x in dur_dist if str(x) != 'nan']\n",
    "    prof_dist = [x for x in prof_dist if str(x) != 'nan']\n",
    "    return len([x for x in dur_dist if x <=28])/500\n",
    "np.mean([logi_confidence() for i in range(100)])"
   ]
  },
  {
   "cell_type": "markdown",
   "id": "secondary-machinery",
   "metadata": {},
   "source": [
    "## Deep"
   ]
  },
  {
   "cell_type": "code",
   "execution_count": 330,
   "id": "linear-charleston",
   "metadata": {},
   "outputs": [
    {
     "data": {
      "text/plain": [
       "[27.589, 27.211, 27.969, 27.679, 27.49, 27.572]"
      ]
     },
     "execution_count": 330,
     "metadata": {},
     "output_type": "execute_result"
    }
   ],
   "source": [
    "tc_dur = []\n",
    "tc_prof = []\n",
    "tc_crash = []\n",
    "for i in range(len(dur_logi)):\n",
    "    if dur_deep[i] <= 28:\n",
    "        tc_dur.append(dur_deep[i])\n",
    "        tc_prof.append(profit_deep[i])\n",
    "        tc_crash.append(lst[i])\n",
    "tc_dur"
   ]
  },
  {
   "cell_type": "code",
   "execution_count": 331,
   "id": "fitting-davis",
   "metadata": {},
   "outputs": [
    {
     "data": {
      "text/plain": [
       "[(0, 1, 1, 0, 0, 1),\n",
       " (0, 1, 1, 1, 0, 1),\n",
       " (0, 1, 1, 1, 1, 1),\n",
       " (1, 1, 0, 0, 0, 1),\n",
       " (1, 1, 1, 0, 0, 0),\n",
       " (1, 1, 1, 1, 0, 0)]"
      ]
     },
     "execution_count": 331,
     "metadata": {},
     "output_type": "execute_result"
    }
   ],
   "source": [
    "tc_crash"
   ]
  },
  {
   "cell_type": "code",
   "execution_count": 334,
   "id": "meaningful-papua",
   "metadata": {},
   "outputs": [
    {
     "data": {
      "text/plain": [
       "0.7573999999999999"
      ]
     },
     "execution_count": 334,
     "metadata": {},
     "output_type": "execute_result"
    }
   ],
   "source": [
    "def logi_confidence():\n",
    "    dur_dist = []\n",
    "    prof_dist = []\n",
    "    for i in range(500):\n",
    "        dur_dist.append(Proj_simulation(2,0,1,1,1,1,1)[0])\n",
    "        prof_dist.append(Proj_simulation(2,0,1,1,1,1,1)[1])\n",
    "    dur_dist = [x for x in dur_dist if str(x) != 'nan']\n",
    "    prof_dist = [x for x in prof_dist if str(x) != 'nan']\n",
    "    return len([x for x in dur_dist if x <=28])/500\n",
    "np.mean([logi_confidence() for i in range(100)])"
   ]
  },
  {
   "cell_type": "code",
   "execution_count": 338,
   "id": "handled-immune",
   "metadata": {},
   "outputs": [
    {
     "data": {
      "text/plain": [
       "Text(0, 0.5, 'Count')"
      ]
     },
     "execution_count": 338,
     "metadata": {},
     "output_type": "execute_result"
    },
    {
     "data": {
      "image/png": "[encoded data removed]",
      "text/plain": [
       "<Figure size 432x288 with 1 Axes>"
      ]
     },
     "metadata": {
      "needs_background": "light"
     },
     "output_type": "display_data"
    }
   ],
   "source": [
    "def logi_confidence():\n",
    "    dur_dist = []\n",
    "    prof_dist = []\n",
    "    for i in range(500):\n",
    "        dur_dist.append(Proj_simulation(2,1,1,1,0,0,0)[0])\n",
    "        prof_dist.append(Proj_simulation(2,1,1,1,0,0,0)[1])\n",
    "    dur_dist = [x for x in dur_dist if str(x) != 'nan']\n",
    "    prof_dist = [x for x in prof_dist if str(x) != 'nan']\n",
    "    return dur_dist\n",
    "dd = logi_confidence()\n",
    "plt.hist(dd,bins=20,color='lightsteelblue')\n",
    "plt.xlabel('Distribution of Duration from Training Optimal Deep Learning Model')\n",
    "plt.ylabel('Count')"
   ]
  },
  {
   "cell_type": "code",
   "execution_count": null,
   "id": "still-priority",
   "metadata": {},
   "outputs": [],
   "source": []
  }
 ],
 "metadata": {
  "kernelspec": {
   "display_name": "Python 3",
   "language": "python",
   "name": "python3"
  },
  "language_info": {
   "codemirror_mode": {
    "name": "ipython",
    "version": 3
   },
   "file_extension": ".py",
   "mimetype": "text/x-python",
   "name": "python",
   "nbconvert_exporter": "python",
   "pygments_lexer": "ipython3",
   "version": "3.8.8"
  }
 },
 "nbformat": 4,
 "nbformat_minor": 5
}
